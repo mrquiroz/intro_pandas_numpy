{
 "cells": [
  {
   "cell_type": "markdown",
   "metadata": {},
   "source": [
    "#### Moises Quiroz Diaz"
   ]
  },
  {
   "cell_type": "code",
   "execution_count": 1,
   "metadata": {},
   "outputs": [
    {
     "name": "stdout",
     "output_type": "stream",
     "text": [
      "Hola Mundo, esta es mi primera incursión en Python\n"
     ]
    }
   ],
   "source": [
    "print('Hola Mundo, esta es mi primera incursión en Python')"
   ]
  },
  {
   "cell_type": "code",
   "execution_count": 2,
   "metadata": {},
   "outputs": [],
   "source": [
    "#Su nombre\n",
    "nombre= 'Moises'\n",
    "#Su edad\n",
    "edad = 24\n",
    "#3 actividades favoritas\n",
    "actividades = ['ver series','trotar','comer']\n",
    "#¿Tiene mascota?\n",
    "mascota = 'Si tengo mascota'"
   ]
  },
  {
   "cell_type": "code",
   "execution_count": 3,
   "metadata": {},
   "outputs": [
    {
     "name": "stdout",
     "output_type": "stream",
     "text": [
      "Moises 24 ['ver series', 'trotar', 'comer'] Si tengo mascota\n",
      "trotar\n"
     ]
    }
   ],
   "source": [
    "#Imprima cada variable creada\n",
    "print(nombre,edad,actividades,mascota)\n",
    "#Acceda al segundo elemento de su lista\n",
    "print(actividades[1])"
   ]
  },
  {
   "cell_type": "code",
   "execution_count": 4,
   "metadata": {},
   "outputs": [
    {
     "data": {
      "text/plain": [
       "[str, int, list, str]"
      ]
     },
     "execution_count": 4,
     "metadata": {},
     "output_type": "execute_result"
    }
   ],
   "source": [
    "#Pida los tipo de datos asociados\n",
    "list(map(type,[nombre,edad,actividades,mascota]))"
   ]
  },
  {
   "cell_type": "code",
   "execution_count": 5,
   "metadata": {},
   "outputs": [
    {
     "name": "stdout",
     "output_type": "stream",
     "text": [
      "Mi nombre es Moises \n",
      "como dato importante Si tengo mascota \n",
      "mis actividades favoritas son ver series,trotar,comer \n",
      "mi edad es 24 \n"
     ]
    }
   ],
   "source": [
    "#Interpole los datos en un método print para generar una presentación sobre usted.\n",
    "print('Mi nombre es {0} \\ncomo dato importante {2} \\nmis actividades favoritas son {3},{4},{5} \\nmi edad es {1} '.format(nombre,edad,mascota,actividades[0],actividades[1],actividades[2]))"
   ]
  },
  {
   "cell_type": "code",
   "execution_count": 6,
   "metadata": {},
   "outputs": [
    {
     "name": "stdout",
     "output_type": "stream",
     "text": [
      "Estaba la pájara pinta sentada en el verde limón\n",
      "Mi nombre es Moises y tengo 24 años\n"
     ]
    },
    {
     "data": {
      "text/plain": [
       "'Ornitorrinco45'"
      ]
     },
     "execution_count": 6,
     "metadata": {},
     "output_type": "execute_result"
    }
   ],
   "source": [
    "#A continuación se presenta una serie de códigos que generan errores. Corrígalos y comente cuáles\n",
    "#fueron las fallas\n",
    "print('Estaba la pájara pinta sentada en el verde limón') #falto comilla\n",
    "print('Mi nombre es', nombre ,'y tengo', edad, 'años') #falto comas\n",
    "import pandas as pd #mal escrito el nombre\n",
    "import numpy as np\n",
    "\"Ornitorrinco\" + '45'#concatenaba str y int "
   ]
  },
  {
   "cell_type": "code",
   "execution_count": 7,
   "metadata": {},
   "outputs": [],
   "source": [
    "import pandas as pd\n",
    "import numpy as np\n",
    "data = pd.read_csv('flights.csv')"
   ]
  },
  {
   "cell_type": "code",
   "execution_count": 8,
   "metadata": {},
   "outputs": [
    {
     "data": {
      "text/html": [
       "<div>\n",
       "<style scoped>\n",
       "    .dataframe tbody tr th:only-of-type {\n",
       "        vertical-align: middle;\n",
       "    }\n",
       "\n",
       "    .dataframe tbody tr th {\n",
       "        vertical-align: top;\n",
       "    }\n",
       "\n",
       "    .dataframe thead th {\n",
       "        text-align: right;\n",
       "    }\n",
       "</style>\n",
       "<table border=\"1\" class=\"dataframe\">\n",
       "  <thead>\n",
       "    <tr style=\"text-align: right;\">\n",
       "      <th></th>\n",
       "      <th>year</th>\n",
       "      <th>month</th>\n",
       "      <th>passengers</th>\n",
       "    </tr>\n",
       "  </thead>\n",
       "  <tbody>\n",
       "    <tr>\n",
       "      <th>0</th>\n",
       "      <td>1949</td>\n",
       "      <td>January</td>\n",
       "      <td>112</td>\n",
       "    </tr>\n",
       "    <tr>\n",
       "      <th>1</th>\n",
       "      <td>1949</td>\n",
       "      <td>February</td>\n",
       "      <td>118</td>\n",
       "    </tr>\n",
       "    <tr>\n",
       "      <th>2</th>\n",
       "      <td>1949</td>\n",
       "      <td>March</td>\n",
       "      <td>132</td>\n",
       "    </tr>\n",
       "    <tr>\n",
       "      <th>3</th>\n",
       "      <td>1949</td>\n",
       "      <td>April</td>\n",
       "      <td>129</td>\n",
       "    </tr>\n",
       "    <tr>\n",
       "      <th>4</th>\n",
       "      <td>1949</td>\n",
       "      <td>May</td>\n",
       "      <td>121</td>\n",
       "    </tr>\n",
       "  </tbody>\n",
       "</table>\n",
       "</div>"
      ],
      "text/plain": [
       "   year     month  passengers\n",
       "0  1949   January         112\n",
       "1  1949  February         118\n",
       "2  1949     March         132\n",
       "3  1949     April         129\n",
       "4  1949       May         121"
      ]
     },
     "execution_count": 8,
     "metadata": {},
     "output_type": "execute_result"
    }
   ],
   "source": [
    "data.head(5)"
   ]
  },
  {
   "cell_type": "code",
   "execution_count": 9,
   "metadata": {},
   "outputs": [
    {
     "data": {
      "text/plain": [
       "count     144.000000\n",
       "mean     1954.500000\n",
       "std         3.464102\n",
       "min      1949.000000\n",
       "25%      1951.750000\n",
       "50%      1954.500000\n",
       "75%      1957.250000\n",
       "max      1960.000000\n",
       "Name: year, dtype: float64"
      ]
     },
     "execution_count": 9,
     "metadata": {},
     "output_type": "execute_result"
    }
   ],
   "source": [
    "data.describe()['year']"
   ]
  },
  {
   "cell_type": "code",
   "execution_count": 10,
   "metadata": {},
   "outputs": [
    {
     "data": {
      "text/plain": [
       "March        12\n",
       "November     12\n",
       "April        12\n",
       "August       12\n",
       "February     12\n",
       "October      12\n",
       "July         12\n",
       "June         12\n",
       "May          12\n",
       "December     12\n",
       "January      12\n",
       "September    12\n",
       "Name: month, dtype: int64"
      ]
     },
     "execution_count": 10,
     "metadata": {},
     "output_type": "execute_result"
    }
   ],
   "source": [
    "data['month'].value_counts()"
   ]
  },
  {
   "cell_type": "code",
   "execution_count": 11,
   "metadata": {},
   "outputs": [],
   "source": [
    "primeras_15= data.head(15)\n",
    "ultimas_15=data.tail(15)"
   ]
  },
  {
   "cell_type": "code",
   "execution_count": 12,
   "metadata": {},
   "outputs": [
    {
     "data": {
      "text/html": [
       "<div>\n",
       "<style scoped>\n",
       "    .dataframe tbody tr th:only-of-type {\n",
       "        vertical-align: middle;\n",
       "    }\n",
       "\n",
       "    .dataframe tbody tr th {\n",
       "        vertical-align: top;\n",
       "    }\n",
       "\n",
       "    .dataframe thead th {\n",
       "        text-align: right;\n",
       "    }\n",
       "</style>\n",
       "<table border=\"1\" class=\"dataframe\">\n",
       "  <thead>\n",
       "    <tr style=\"text-align: right;\">\n",
       "      <th></th>\n",
       "      <th>Toda la data</th>\n",
       "      <th>Primeras 15</th>\n",
       "      <th>Ultimas 15</th>\n",
       "    </tr>\n",
       "  </thead>\n",
       "  <tbody>\n",
       "    <tr>\n",
       "      <th>Media</th>\n",
       "      <td>280.298611</td>\n",
       "      <td>126.800000</td>\n",
       "      <td>459.200000</td>\n",
       "    </tr>\n",
       "    <tr>\n",
       "      <th>Mediana</th>\n",
       "      <td>265.500000</td>\n",
       "      <td>126.000000</td>\n",
       "      <td>432.000000</td>\n",
       "    </tr>\n",
       "    <tr>\n",
       "      <th>desviacion estandar</th>\n",
       "      <td>119.549042</td>\n",
       "      <td>12.681745</td>\n",
       "      <td>75.294267</td>\n",
       "    </tr>\n",
       "  </tbody>\n",
       "</table>\n",
       "</div>"
      ],
      "text/plain": [
       "                     Toda la data  Primeras 15  Ultimas 15\n",
       "Media                  280.298611   126.800000  459.200000\n",
       "Mediana                265.500000   126.000000  432.000000\n",
       "desviacion estandar    119.549042    12.681745   75.294267"
      ]
     },
     "execution_count": 12,
     "metadata": {},
     "output_type": "execute_result"
    }
   ],
   "source": [
    "comparacion= {'Toda la data': [np.mean(data['passengers']),np.median(data['passengers']),np.std(data['passengers'])]}\n",
    "comparacion['Primeras 15']= [np.mean(primeras_15['passengers']),np.median(primeras_15['passengers']),np.std(primeras_15['passengers'])]\n",
    "comparacion['Ultimas 15']= [np.mean(ultimas_15['passengers']),np.median(ultimas_15['passengers']),np.std(ultimas_15['passengers'])]\n",
    "compara = pd.DataFrame(comparacion,['Media','Mediana','desviacion estandar'])\n",
    "compara\n",
    "\n"
   ]
  },
  {
   "cell_type": "markdown",
   "metadata": {},
   "source": [
    "Se observa que los valores de los ultimos 15 resultados son mucho mayores, lo anterior reflejado en la media y mediana, pero a su vez se observa que los datos son mucho mas dispersos que para los primeros 15\n",
    "\n",
    "\n",
    "Como observacion adicional se utilizara un boxplot para ver dispercion de los datos"
   ]
  },
  {
   "cell_type": "code",
   "execution_count": 14,
   "metadata": {},
   "outputs": [
    {
     "data": {
      "text/plain": [
       "{'whiskers': [<matplotlib.lines.Line2D at 0x120a74ba8>,\n",
       "  <matplotlib.lines.Line2D at 0x120a74ef0>,\n",
       "  <matplotlib.lines.Line2D at 0x120a8a320>,\n",
       "  <matplotlib.lines.Line2D at 0x120a8a668>],\n",
       " 'caps': [<matplotlib.lines.Line2D at 0x120a80278>,\n",
       "  <matplotlib.lines.Line2D at 0x120a805c0>,\n",
       "  <matplotlib.lines.Line2D at 0x120a8a9b0>,\n",
       "  <matplotlib.lines.Line2D at 0x120a8acf8>],\n",
       " 'boxes': [<matplotlib.lines.Line2D at 0x120a74a58>,\n",
       "  <matplotlib.lines.Line2D at 0x120a80f60>],\n",
       " 'medians': [<matplotlib.lines.Line2D at 0x120a80908>,\n",
       "  <matplotlib.lines.Line2D at 0x120a95080>],\n",
       " 'fliers': [<matplotlib.lines.Line2D at 0x120a80c50>,\n",
       "  <matplotlib.lines.Line2D at 0x120a953c8>],\n",
       " 'means': []}"
      ]
     },
     "execution_count": 14,
     "metadata": {},
     "output_type": "execute_result"
    },
    {
     "data": {
      "image/png": "[encoded data removed]",
      "text/plain": [
       "<Figure size 432x288 with 1 Axes>"
      ]
     },
     "metadata": {
      "needs_background": "light"
     },
     "output_type": "display_data"
    }
   ],
   "source": [
    "import matplotlib.pyplot as plt\n",
    "boxs = ultimas_15['passengers'],primeras_15['passengers']\n",
    "plt.boxplot(boxs)"
   ]
  },
  {
   "cell_type": "code",
   "execution_count": null,
   "metadata": {},
   "outputs": [],
   "source": []
  }
 ],
 "metadata": {
  "kernelspec": {
   "display_name": "Python 3",
   "language": "python",
   "name": "python3"
  },
  "language_info": {
   "codemirror_mode": {
    "name": "ipython",
    "version": 3
   },
   "file_extension": ".py",
   "mimetype": "text/x-python",
   "name": "python",
   "nbconvert_exporter": "python",
   "pygments_lexer": "ipython3",
   "version": "3.6.8"
  }
 },
 "nbformat": 4,
 "nbformat_minor": 2
}
