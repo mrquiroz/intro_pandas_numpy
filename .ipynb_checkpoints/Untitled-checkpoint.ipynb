{
 "cells": [
  {
   "cell_type": "markdown",
   "metadata": {},
   "source": [
    "### Moises Quiroz Diaz\n"
   ]
  },
  {
   "cell_type": "code",
   "execution_count": 1,
   "metadata": {},
   "outputs": [],
   "source": [
    "import numpy as np\n",
    "import pandas as pd"
   ]
  },
  {
   "cell_type": "markdown",
   "metadata": {},
   "source": [
    "#### 1) Generar un par de arrays ficticios con numpy"
   ]
  },
  {
   "cell_type": "code",
   "execution_count": 2,
   "metadata": {},
   "outputs": [],
   "source": [
    "array_1 = np.linspace(1,50,50)\n",
    "array_2 = np.linspace(50,150,101)"
   ]
  },
  {
   "cell_type": "markdown",
   "metadata": {},
   "source": [
    "#### 2) Ejecute un loop que devuelva si el número en el primer array es par o impar"
   ]
  },
  {
   "cell_type": "code",
   "execution_count": 3,
   "metadata": {},
   "outputs": [
    {
     "name": "stdout",
     "output_type": "stream",
     "text": [
      "1.0 Es impar\n",
      "2.0 Es par\n",
      "3.0 Es impar\n",
      "4.0 Es par\n",
      "5.0 Es impar\n",
      "6.0 Es par\n",
      "7.0 Es impar\n",
      "8.0 Es par\n",
      "9.0 Es impar\n",
      "10.0 Es par\n",
      "11.0 Es impar\n",
      "12.0 Es par\n",
      "13.0 Es impar\n",
      "14.0 Es par\n",
      "15.0 Es impar\n",
      "16.0 Es par\n",
      "17.0 Es impar\n",
      "18.0 Es par\n",
      "19.0 Es impar\n",
      "20.0 Es par\n",
      "21.0 Es impar\n",
      "22.0 Es par\n",
      "23.0 Es impar\n",
      "24.0 Es par\n",
      "25.0 Es impar\n",
      "26.0 Es par\n",
      "27.0 Es impar\n",
      "28.0 Es par\n",
      "29.0 Es impar\n",
      "30.0 Es par\n",
      "31.0 Es impar\n",
      "32.0 Es par\n",
      "33.0 Es impar\n",
      "34.0 Es par\n",
      "35.0 Es impar\n",
      "36.0 Es par\n",
      "37.0 Es impar\n",
      "38.0 Es par\n",
      "39.0 Es impar\n",
      "40.0 Es par\n",
      "41.0 Es impar\n",
      "42.0 Es par\n",
      "43.0 Es impar\n",
      "44.0 Es par\n",
      "45.0 Es impar\n",
      "46.0 Es par\n",
      "47.0 Es impar\n",
      "48.0 Es par\n",
      "49.0 Es impar\n",
      "50.0 Es par\n"
     ]
    }
   ],
   "source": [
    "for i in array_1:\n",
    "    if (i%2 == 0):\n",
    "        print(i,'Es par')\n",
    "    else:\n",
    "        print(i,'Es impar')"
   ]
  },
  {
   "cell_type": "markdown",
   "metadata": {},
   "source": [
    "#### 3) Genere un loop con el segundo array que cuente las siguientes condiciones:\n",
    "\n",
    "    Si el número es divisible por 2 o 3\n",
    "    Si el número es divisible por 2 y 3\n",
    "    Si el número es divisible por 3 pero no por 2\n",
    "    si el número no es divisible por 2 ni 3"
   ]
  },
  {
   "cell_type": "code",
   "execution_count": 4,
   "metadata": {},
   "outputs": [
    {
     "name": "stdout",
     "output_type": "stream",
     "text": [
      "La cantidad es: 68\n"
     ]
    }
   ],
   "source": [
    "n = 0\n",
    "for i in array_2:\n",
    "    if (i%2 == 0) or (i%3 == 0):\n",
    "        n+=1\n",
    "print('La cantidad es:',n)"
   ]
  },
  {
   "cell_type": "code",
   "execution_count": 5,
   "metadata": {},
   "outputs": [
    {
     "name": "stdout",
     "output_type": "stream",
     "text": [
      "La cantidad es: 17\n"
     ]
    }
   ],
   "source": [
    "n=0\n",
    "for i in array_2:\n",
    "    if (i%2 == 0) and (i%3 == 0):\n",
    "        n+=1\n",
    "print('La cantidad es:',n)"
   ]
  },
  {
   "cell_type": "code",
   "execution_count": 6,
   "metadata": {},
   "outputs": [
    {
     "name": "stdout",
     "output_type": "stream",
     "text": [
      "La cantidad es: 17\n"
     ]
    }
   ],
   "source": [
    "n=0\n",
    "for i in array_2:\n",
    "    if (i%2 != 0) and (i%3 == 0):\n",
    "        n+=1\n",
    "print('La cantidad es:',n)"
   ]
  },
  {
   "cell_type": "code",
   "execution_count": 7,
   "metadata": {},
   "outputs": [
    {
     "name": "stdout",
     "output_type": "stream",
     "text": [
      "La cantidad es: 33\n"
     ]
    }
   ],
   "source": [
    "n=0\n",
    "for i in array_2:\n",
    "    if (i%2 != 0) and (i%3 != 0):\n",
    "        n+=1\n",
    "print('La cantidad es:',n)"
   ]
  },
  {
   "cell_type": "markdown",
   "metadata": {},
   "source": [
    "#### 4) Correccion de errores\n",
    "\n",
    "    for i in range(100):\n",
    "        print(I**2)\n",
    "  \n",
    "Utiliza un I en lugar de un i"
   ]
  },
  {
   "cell_type": "code",
   "execution_count": 8,
   "metadata": {},
   "outputs": [
    {
     "name": "stdout",
     "output_type": "stream",
     "text": [
      "0\n",
      "1\n",
      "4\n",
      "9\n",
      "16\n",
      "25\n",
      "36\n",
      "49\n",
      "64\n",
      "81\n",
      "100\n",
      "121\n",
      "144\n",
      "169\n",
      "196\n",
      "225\n",
      "256\n",
      "289\n",
      "324\n",
      "361\n",
      "400\n",
      "441\n",
      "484\n",
      "529\n",
      "576\n",
      "625\n",
      "676\n",
      "729\n",
      "784\n",
      "841\n",
      "900\n",
      "961\n",
      "1024\n",
      "1089\n",
      "1156\n",
      "1225\n",
      "1296\n",
      "1369\n",
      "1444\n",
      "1521\n",
      "1600\n",
      "1681\n",
      "1764\n",
      "1849\n",
      "1936\n",
      "2025\n",
      "2116\n",
      "2209\n",
      "2304\n",
      "2401\n",
      "2500\n",
      "2601\n",
      "2704\n",
      "2809\n",
      "2916\n",
      "3025\n",
      "3136\n",
      "3249\n",
      "3364\n",
      "3481\n",
      "3600\n",
      "3721\n",
      "3844\n",
      "3969\n",
      "4096\n",
      "4225\n",
      "4356\n",
      "4489\n",
      "4624\n",
      "4761\n",
      "4900\n",
      "5041\n",
      "5184\n",
      "5329\n",
      "5476\n",
      "5625\n",
      "5776\n",
      "5929\n",
      "6084\n",
      "6241\n",
      "6400\n",
      "6561\n",
      "6724\n",
      "6889\n",
      "7056\n",
      "7225\n",
      "7396\n",
      "7569\n",
      "7744\n",
      "7921\n",
      "8100\n",
      "8281\n",
      "8464\n",
      "8649\n",
      "8836\n",
      "9025\n",
      "9216\n",
      "9409\n",
      "9604\n",
      "9801\n"
     ]
    }
   ],
   "source": [
    "for i in range(100):\n",
    "    print(i**2)"
   ]
  },
  {
   "cell_type": "markdown",
   "metadata": {},
   "source": [
    "#### 5) Pregunta 5\n",
    "Utilizando la misma base flights.csv hacer un loop y clasificar los meses con una cantidad de pasajeros menor a la media\n",
    "\n",
    "Para ello, generen un nuevo objeto que represente la media de passengers .\n",
    "\n",
    "Generen una columna en la base de datos que se llame underperforming y asígnele 0.\n",
    "\n",
    "Ejecuten un loop que recorra cada observación de passengers , donde si la observación es\n",
    "menor a la media de passengers se le asigne a underperforming un 1.\n",
    "\n",
    "Para asignar unos en la columna underperforming ya creada, utilice la función\n",
    "set_value ."
   ]
  },
  {
   "cell_type": "code",
   "execution_count": 9,
   "metadata": {},
   "outputs": [],
   "source": [
    "data = pd.read_csv('flights.csv')"
   ]
  },
  {
   "cell_type": "code",
   "execution_count": 10,
   "metadata": {},
   "outputs": [],
   "source": [
    "passengers_mean = np.mean(data['passengers'])\n",
    "data['underperforming']=0"
   ]
  },
  {
   "cell_type": "code",
   "execution_count": 11,
   "metadata": {},
   "outputs": [
    {
     "name": "stderr",
     "output_type": "stream",
     "text": [
      "/Users/moisesquiroz/anaconda3/lib/python3.6/site-packages/ipykernel_launcher.py:3: FutureWarning: set_value is deprecated and will be removed in a future release. Please use .at[] or .iat[] accessors instead\n",
      "  This is separate from the ipykernel package so we can avoid doing imports until\n"
     ]
    }
   ],
   "source": [
    "for index,row_serie in data.iterrows():\n",
    "    if row_serie[2] < passengers_mean:\n",
    "        data.set_value(index,'underperforming',1)"
   ]
  },
  {
   "cell_type": "code",
   "execution_count": 12,
   "metadata": {},
   "outputs": [],
   "source": [
    "for index,row_serie in data.iterrows():\n",
    "    if row_serie[2] < passengers_mean:\n",
    "        data.at[index,'underperforming']=1"
   ]
  },
  {
   "cell_type": "markdown",
   "metadata": {},
   "source": [
    "#### 6) Pregunta\n",
    "Hacer un loop que clasifique los meses donde la cantidad de pasajeros se escapa de la tendencia.\n",
    "\n",
    "Para ello, genere dos objetos que guarden la media general y la desviación estandar general\n",
    "de passengers .\n",
    "\n",
    "Genere una nueva columna en la tabla de datos que se llame outlier y asignele 0.\n",
    "\n",
    "Ejecuten un loop que recorra cada observación de passengers , donde si la observación se\n",
    "escapa de la tendencia sea 1, de lo contrario 0.\n",
    "\n",
    "Para clasificar los casos que se escapen la tendencia, la observación debe satisfacer una de\n",
    "las siguientes condiciones:\n",
    "\n",
    "    La observación debe ser menor a la media menos la desviación estándar, o\n",
    "    La observación debe ser mayor a la media más la desviación estándar.\n",
    "    ¿Cuántas observaciones se pueden clasificar como casos extremos?"
   ]
  },
  {
   "cell_type": "code",
   "execution_count": 13,
   "metadata": {},
   "outputs": [],
   "source": [
    "passengers_mean = np.mean(data['passengers'])\n",
    "passengers_std = np.std(data['passengers'])\n",
    "data['outlier']=0"
   ]
  },
  {
   "cell_type": "code",
   "execution_count": 14,
   "metadata": {},
   "outputs": [
    {
     "name": "stdout",
     "output_type": "stream",
     "text": [
      "Las observaciones fueron: 53\n"
     ]
    }
   ],
   "source": [
    "n = 0\n",
    "for index,row_serie in data.iterrows():\n",
    "    if (row_serie[2] < passengers_mean - passengers_std) or(row_serie[2] > (passengers_std+passengers_mean)) :\n",
    "        data.at[index,'outlier']=1\n",
    "        n+=1\n",
    "print('Las observaciones fueron:',n)"
   ]
  },
  {
   "cell_type": "code",
   "execution_count": 22,
   "metadata": {},
   "outputs": [],
   "source": [
    "data.to_csv('csv_respuesta.csv')"
   ]
  },
  {
   "cell_type": "code",
   "execution_count": null,
   "metadata": {},
   "outputs": [],
   "source": []
  }
 ],
 "metadata": {
  "kernelspec": {
   "display_name": "Python 3",
   "language": "python",
   "name": "python3"
  },
  "language_info": {
   "codemirror_mode": {
    "name": "ipython",
    "version": 3
   },
   "file_extension": ".py",
   "mimetype": "text/x-python",
   "name": "python",
   "nbconvert_exporter": "python",
   "pygments_lexer": "ipython3",
   "version": "3.6.8"
  }
 },
 "nbformat": 4,
 "nbformat_minor": 2
}
